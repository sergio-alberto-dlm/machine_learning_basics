{
 "cells": [
  {
   "cell_type": "code",
   "execution_count": 171,
   "metadata": {},
   "outputs": [],
   "source": [
    "# Tools \n",
    "import numpy as np\n",
    "import matplotlib.pyplot as plt \n",
    "import pandas as pd \n",
    "import seaborn as sns\n",
    "\n",
    "# Machine learning \n",
    "from sklearn.preprocessing import StandardScaler\n",
    "from sklearn.decomposition import PCA\n",
    "from sklearn.impute import KNNImputer\n",
    "from sklearn.discriminant_analysis import LinearDiscriminantAnalysis\n",
    "from sklearn.model_selection import train_test_split\n",
    "from sklearn.metrics import confusion_matrix, ConfusionMatrixDisplay, classification_report, accuracy_score\n",
    "from sklearn.neighbors import KNeighborsClassifier\n",
    "from sklearn.linear_model import LogisticRegression"
   ]
  },
  {
   "cell_type": "markdown",
   "metadata": {},
   "source": [
    "### Vistazo a los datos "
   ]
  },
  {
   "cell_type": "markdown",
   "metadata": {},
   "source": [
    "Primero leamos los datos y busquemos si hay datos faltantes."
   ]
  },
  {
   "cell_type": "code",
   "execution_count": 172,
   "metadata": {},
   "outputs": [
    {
     "data": {
      "text/html": [
       "<div>\n",
       "<style scoped>\n",
       "    .dataframe tbody tr th:only-of-type {\n",
       "        vertical-align: middle;\n",
       "    }\n",
       "\n",
       "    .dataframe tbody tr th {\n",
       "        vertical-align: top;\n",
       "    }\n",
       "\n",
       "    .dataframe thead th {\n",
       "        text-align: right;\n",
       "    }\n",
       "</style>\n",
       "<table border=\"1\" class=\"dataframe\">\n",
       "  <thead>\n",
       "    <tr style=\"text-align: right;\">\n",
       "      <th></th>\n",
       "      <th>species</th>\n",
       "      <th>bill_length_mm</th>\n",
       "      <th>bill_depth_mm</th>\n",
       "      <th>flipper_length_mm</th>\n",
       "      <th>body_mass_g</th>\n",
       "    </tr>\n",
       "  </thead>\n",
       "  <tbody>\n",
       "    <tr>\n",
       "      <th>0</th>\n",
       "      <td>Adelie</td>\n",
       "      <td>39.1</td>\n",
       "      <td>18.7</td>\n",
       "      <td>181.0</td>\n",
       "      <td>3750.0</td>\n",
       "    </tr>\n",
       "    <tr>\n",
       "      <th>1</th>\n",
       "      <td>Adelie</td>\n",
       "      <td>39.5</td>\n",
       "      <td>17.4</td>\n",
       "      <td>186.0</td>\n",
       "      <td>3800.0</td>\n",
       "    </tr>\n",
       "    <tr>\n",
       "      <th>2</th>\n",
       "      <td>Adelie</td>\n",
       "      <td>40.3</td>\n",
       "      <td>18.0</td>\n",
       "      <td>195.0</td>\n",
       "      <td>3250.0</td>\n",
       "    </tr>\n",
       "    <tr>\n",
       "      <th>3</th>\n",
       "      <td>Adelie</td>\n",
       "      <td>NaN</td>\n",
       "      <td>NaN</td>\n",
       "      <td>NaN</td>\n",
       "      <td>NaN</td>\n",
       "    </tr>\n",
       "    <tr>\n",
       "      <th>4</th>\n",
       "      <td>Adelie</td>\n",
       "      <td>36.7</td>\n",
       "      <td>19.3</td>\n",
       "      <td>193.0</td>\n",
       "      <td>3450.0</td>\n",
       "    </tr>\n",
       "  </tbody>\n",
       "</table>\n",
       "</div>"
      ],
      "text/plain": [
       "  species  bill_length_mm  bill_depth_mm  flipper_length_mm  body_mass_g\n",
       "0  Adelie            39.1           18.7              181.0       3750.0\n",
       "1  Adelie            39.5           17.4              186.0       3800.0\n",
       "2  Adelie            40.3           18.0              195.0       3250.0\n",
       "3  Adelie             NaN            NaN                NaN          NaN\n",
       "4  Adelie            36.7           19.3              193.0       3450.0"
      ]
     },
     "execution_count": 172,
     "metadata": {},
     "output_type": "execute_result"
    }
   ],
   "source": [
    "df = pd.read_csv('./penguins.csv')\n",
    "df = df[df['species'] != 'Chinstrap']\n",
    "df = df.drop(['rowid', 'island', 'sex', 'year'], axis=1)\n",
    "df['species'] = df['species'].astype('category')\n",
    "df.head()"
   ]
  },
  {
   "cell_type": "code",
   "execution_count": 173,
   "metadata": {},
   "outputs": [
    {
     "name": "stdout",
     "output_type": "stream",
     "text": [
      "<class 'pandas.core.frame.DataFrame'>\n",
      "Index: 276 entries, 0 to 275\n",
      "Data columns (total 5 columns):\n",
      " #   Column             Non-Null Count  Dtype   \n",
      "---  ------             --------------  -----   \n",
      " 0   species            276 non-null    category\n",
      " 1   bill_length_mm     274 non-null    float64 \n",
      " 2   bill_depth_mm      274 non-null    float64 \n",
      " 3   flipper_length_mm  274 non-null    float64 \n",
      " 4   body_mass_g        274 non-null    float64 \n",
      "dtypes: category(1), float64(4)\n",
      "memory usage: 11.2 KB\n"
     ]
    }
   ],
   "source": [
    "df.info()"
   ]
  },
  {
   "cell_type": "markdown",
   "metadata": {},
   "source": [
    "Como podemos ver existen valores nulos en el dataset, para gestionar estos datos faltantes vamos a imputarlos usando k-NN."
   ]
  },
  {
   "cell_type": "code",
   "execution_count": 174,
   "metadata": {},
   "outputs": [],
   "source": [
    "# Gestionamos los datos faltantes (valores NaN)\n",
    "X = df.iloc[:, 1:]\n",
    "imputer = KNNImputer(n_neighbors=3)\n",
    "X = imputer.fit_transform(X)\n",
    "df.iloc[:, 1:] = X"
   ]
  },
  {
   "cell_type": "code",
   "execution_count": 176,
   "metadata": {},
   "outputs": [
    {
     "name": "stdout",
     "output_type": "stream",
     "text": [
      "<class 'pandas.core.frame.DataFrame'>\n",
      "Index: 276 entries, 0 to 275\n",
      "Data columns (total 5 columns):\n",
      " #   Column             Non-Null Count  Dtype   \n",
      "---  ------             --------------  -----   \n",
      " 0   species            276 non-null    category\n",
      " 1   bill_length_mm     276 non-null    float64 \n",
      " 2   bill_depth_mm      276 non-null    float64 \n",
      " 3   flipper_length_mm  276 non-null    float64 \n",
      " 4   body_mass_g        276 non-null    float64 \n",
      "dtypes: category(1), float64(4)\n",
      "memory usage: 11.2 KB\n"
     ]
    }
   ],
   "source": [
    "df.info()"
   ]
  },
  {
   "cell_type": "markdown",
   "metadata": {},
   "source": [
    "Veamos si las clases en las que estamos interesados estan balancedas. "
   ]
  },
  {
   "cell_type": "code",
   "execution_count": 177,
   "metadata": {},
   "outputs": [
    {
     "name": "stderr",
     "output_type": "stream",
     "text": [
      "/Users/sergio/anaconda3/envs/machine_lr/lib/python3.9/site-packages/seaborn/categorical.py:641: FutureWarning: The default of observed=False is deprecated and will be changed to True in a future version of pandas. Pass observed=False to retain current behavior or observed=True to adopt the future default and silence this warning.\n",
      "  grouped_vals = vals.groupby(grouper)\n"
     ]
    },
    {
     "data": {
      "image/png": "[encoded data removed]",
      "text/plain": [
       "<Figure size 500x500 with 1 Axes>"
      ]
     },
     "metadata": {},
     "output_type": "display_data"
    }
   ],
   "source": [
    "plt.figure(figsize=(5, 5))\n",
    "sns.countplot(x = df[\"species\"])\n",
    "plt.show()"
   ]
  },
  {
   "cell_type": "markdown",
   "metadata": {},
   "source": [
    "Ahora, usemos PCA para visualizar los datos en dos dimensiones y explorar la viabilidad de usar algún algoritmo para clasificar como LDA."
   ]
  },
  {
   "cell_type": "code",
   "execution_count": 178,
   "metadata": {},
   "outputs": [],
   "source": [
    "# Visualicemos los datos con PCA\n",
    "scaler = StandardScaler()\n",
    "df_scaled = scaler.fit_transform(df.iloc[:, 1:])\n",
    "\n",
    "pca = PCA(n_components=2)\n",
    "df_proy = pca.fit_transform(df_scaled)"
   ]
  },
  {
   "cell_type": "code",
   "execution_count": 180,
   "metadata": {},
   "outputs": [
    {
     "data": {
      "image/png": "[encoded data removed]",
      "text/plain": [
       "<Figure size 800x500 with 1 Axes>"
      ]
     },
     "metadata": {},
     "output_type": "display_data"
    }
   ],
   "source": [
    "# Visualizamos clusters en 2D \n",
    "\n",
    "plt.figure(figsize=(8, 5))\n",
    "for specie in df[\"species\"].unique():\n",
    "    labels = df[\"species\"] == specie\n",
    "    plt.scatter(df_proy[labels, 0], df_proy[labels, 1], marker='o', s=20, label=str(specie))\n",
    "\n",
    "plt.legend(title='species')\n",
    "plt.tight_layout\n",
    "plt.show()"
   ]
  },
  {
   "cell_type": "markdown",
   "metadata": {},
   "source": [
    "En la gráfica se muestra de manera contundente que hay evidencia de que los datos se dividen principalmente en dos grupos, los cuáles se corresponden con la especie. A continuación desplegaremos diferentes algoritmos de clasificación, para ello primero hagamsos un split a los datos en un cojunto de entrenamiento y validación."
   ]
  },
  {
   "cell_type": "code",
   "execution_count": 181,
   "metadata": {},
   "outputs": [],
   "source": [
    "# Split a los datos \n",
    "X_train, X_test, y_train, y_test = train_test_split(df.drop('species', axis=1), df['species'], test_size=0.2, random_state=42)"
   ]
  },
  {
   "cell_type": "markdown",
   "metadata": {},
   "source": [
    "### LDA"
   ]
  },
  {
   "cell_type": "code",
   "execution_count": 182,
   "metadata": {},
   "outputs": [
    {
     "name": "stdout",
     "output_type": "stream",
     "text": [
      "[[ 0.11898728]\n",
      " [-0.96807874]\n",
      " [ 0.07452956]\n",
      " [ 0.00099023]]\n"
     ]
    }
   ],
   "source": [
    "# Hacemos LDA\n",
    "\n",
    "# Creamos el modelo \n",
    "lda = LinearDiscriminantAnalysis(solver='svd', store_covariance=True)\n",
    "mi_lda = lda.fit(X_train, y_train)\n",
    "\n",
    "# Imprimimos los predictores \n",
    "print(lda.scalings_)"
   ]
  },
  {
   "cell_type": "markdown",
   "metadata": {},
   "source": [
    "Podemos ver de los coeficientes de los predictores que el algoritmo le da una mayor importancia a la longitud del pico del pinguino. "
   ]
  },
  {
   "cell_type": "code",
   "execution_count": 183,
   "metadata": {},
   "outputs": [
    {
     "data": {
      "image/png": "[encoded data removed]",
      "text/plain": [
       "<Figure size 640x480 with 1 Axes>"
      ]
     },
     "metadata": {},
     "output_type": "display_data"
    }
   ],
   "source": [
    "# Proyectamos los datos \n",
    "PX_train = lda.transform(X_train)\n",
    "plt.hist(PX_train[y_train[:]=='Adelie'],  alpha=0.5, label='x')\n",
    "plt.hist(PX_train[y_train[:]=='Gentoo'],  alpha=0.5, label='x')\n",
    "plt.show()"
   ]
  },
  {
   "cell_type": "markdown",
   "metadata": {},
   "source": [
    "Como era de esperarse, proyectar sobre la recta definida por los valores de LDA de scaling, los datos siguen una ditribución normal. A continuación se muestra el reporte de la calidad de clasificación, mostrando un accuracy de aproximadamente 100%"
   ]
  },
  {
   "cell_type": "code",
   "execution_count": 184,
   "metadata": {},
   "outputs": [
    {
     "name": "stdout",
     "output_type": "stream",
     "text": [
      "              precision    recall  f1-score   support\n",
      "\n",
      "      Adelie       1.00      1.00      1.00        32\n",
      "      Gentoo       1.00      1.00      1.00        24\n",
      "\n",
      "    accuracy                           1.00        56\n",
      "   macro avg       1.00      1.00      1.00        56\n",
      "weighted avg       1.00      1.00      1.00        56\n",
      "\n"
     ]
    },
    {
     "data": {
      "image/png": "[encoded data removed]",
      "text/plain": [
       "<Figure size 640x480 with 2 Axes>"
      ]
     },
     "metadata": {},
     "output_type": "display_data"
    }
   ],
   "source": [
    "# Predict and evaluate \n",
    "y_pred = mi_lda.predict(X_test)\n",
    "print(classification_report(y_true=y_test, y_pred=y_pred))\n",
    "\n",
    "ConfusionMatrixDisplay.from_estimator(mi_lda, X_test, y_test)\n",
    "plt.show()"
   ]
  },
  {
   "cell_type": "markdown",
   "metadata": {},
   "source": [
    "### Naive Bayesian Classifier "
   ]
  },
  {
   "cell_type": "markdown",
   "metadata": {},
   "source": [
    "Ahora consideremos el clasificador Bayesiano Ingenúo, para esto primero calculemos las probabilidades a priori y las probabilidades condicionales. "
   ]
  },
  {
   "cell_type": "code",
   "execution_count": 186,
   "metadata": {},
   "outputs": [],
   "source": [
    "# Calculate prior probabilities\n",
    "prior_probabilities = df['species'].value_counts(normalize=True)\n",
    "\n",
    "# Calculate conditional probabilities\n",
    "def conditional_probability(df, feature, target, target_value):\n",
    "    subset = df[df[target] == target_value]\n",
    "    return subset[feature].value_counts(normalize=True)\n",
    "\n",
    "# Store probabilities in a dictionary for easy lookup\n",
    "probabilities = {}\n",
    "for target_value in df['species'].unique():\n",
    "    probabilities[target_value] = {}\n",
    "    probabilities[target_value]['prior'] = prior_probabilities[target_value]\n",
    "    for feature in df.columns[1:]:  # Exclude the target column\n",
    "        probabilities[target_value][feature] = conditional_probability(df, feature, 'species', target_value)"
   ]
  },
  {
   "cell_type": "markdown",
   "metadata": {},
   "source": [
    "Una vez teniendo las probabilidades calculadas, podemos predecir la clase a partir de los datos. "
   ]
  },
  {
   "cell_type": "code",
   "execution_count": 187,
   "metadata": {},
   "outputs": [
    {
     "name": "stdout",
     "output_type": "stream",
     "text": [
      "[[32  0]\n",
      " [ 0 24]]\n",
      "              precision    recall  f1-score   support\n",
      "\n",
      "      Adelie       1.00      1.00      1.00        32\n",
      "      Gentoo       1.00      1.00      1.00        24\n",
      "\n",
      "    accuracy                           1.00        56\n",
      "   macro avg       1.00      1.00      1.00        56\n",
      "weighted avg       1.00      1.00      1.00        56\n",
      "\n"
     ]
    }
   ],
   "source": [
    "def predict(row, probabilities):\n",
    "    outputs = {}\n",
    "    for target_value in probabilities.keys():\n",
    "        prob = probabilities[target_value]['prior']\n",
    "        for feature in row.index:\n",
    "            feature_prob = probabilities[target_value][feature].get(row[feature], 1e-5)  # Smoothing for unseen features\n",
    "            prob *= feature_prob\n",
    "        outputs[target_value] = prob\n",
    "    return max(outputs, key=outputs.get)\n",
    "\n",
    "# Prediction on test set\n",
    "y_pred = X_test.apply(lambda row: predict(row, probabilities), axis=1)\n",
    "print(confusion_matrix(y_true=y_test, y_pred=y_pred))\n",
    "print(classification_report(y_true=y_test, y_pred=y_pred))\n"
   ]
  },
  {
   "cell_type": "markdown",
   "metadata": {},
   "source": [
    "Cómo podemos ver, se obtiene un accuracy de 1, clasificando todos los datos correctamente. "
   ]
  },
  {
   "cell_type": "markdown",
   "metadata": {},
   "source": [
    "### k-NN Clasificador "
   ]
  },
  {
   "cell_type": "markdown",
   "metadata": {},
   "source": [
    "Ahora usemos un esquema de k-NN como clasificador, el número de vecinos a considerar es crusial en este algoritmo, por lo tanto primero probemos distintos valores de k y calculemos el accuracy para cada caso, los resultados se muestran en la figura de abajo. "
   ]
  },
  {
   "cell_type": "code",
   "execution_count": 188,
   "metadata": {},
   "outputs": [
    {
     "data": {
      "image/png": "[encoded data removed]",
      "text/plain": [
       "<Figure size 640x480 with 1 Axes>"
      ]
     },
     "metadata": {},
     "output_type": "display_data"
    }
   ],
   "source": [
    "# Testing from 1 to 15 neighbors\n",
    "accuracies = []\n",
    "for i in range(1, 16):\n",
    "    knn = KNeighborsClassifier(n_neighbors=i)\n",
    "    knn.fit(X_train, y_train)\n",
    "    accuracies.append(knn.score(X_test, y_test))\n",
    "\n",
    "# Plot results\n",
    "plt.plot(range(1, 16), accuracies)\n",
    "plt.xlabel('Number of Neighbors (k)')\n",
    "plt.ylabel('Accuracy')\n",
    "plt.title('k-NN: Varying Number of Neighbors')\n",
    "plt.show()\n"
   ]
  },
  {
   "cell_type": "markdown",
   "metadata": {},
   "source": [
    "Vemos que el accuracy varía demasiado dependiendo del parámetro k, pero basta considerar k=1 para obtener un buen rendimiento logrando un accuracy del 91%, a continuación se muestra el reporte del clasificador. "
   ]
  },
  {
   "cell_type": "code",
   "execution_count": 189,
   "metadata": {},
   "outputs": [
    {
     "name": "stdout",
     "output_type": "stream",
     "text": [
      "              precision    recall  f1-score   support\n",
      "\n",
      "      Adelie       0.89      0.97      0.93        32\n",
      "      Gentoo       0.95      0.83      0.89        24\n",
      "\n",
      "    accuracy                           0.91        56\n",
      "   macro avg       0.92      0.90      0.91        56\n",
      "weighted avg       0.91      0.91      0.91        56\n",
      "\n"
     ]
    },
    {
     "data": {
      "image/png": "[encoded data removed]",
      "text/plain": [
       "<Figure size 640x480 with 2 Axes>"
      ]
     },
     "metadata": {},
     "output_type": "display_data"
    }
   ],
   "source": [
    "# Choose 1-NN \n",
    "knn = KNeighborsClassifier(n_neighbors=1)\n",
    "knn.fit(X_train, y_train)\n",
    "\n",
    "# Preedict and evaluate \n",
    "y_pred = knn.predict(X_test)\n",
    "print(classification_report(y_true=y_test, y_pred=y_pred))\n",
    "\n",
    "ConfusionMatrixDisplay.from_estimator(knn, X_test, y_test)\n",
    "plt.show()"
   ]
  },
  {
   "cell_type": "markdown",
   "metadata": {},
   "source": [
    "### LR"
   ]
  },
  {
   "cell_type": "markdown",
   "metadata": {},
   "source": [
    "Finalmente usemos regresión logística. A continuación se muestran los coeficientes del modelo lineal, recordemos que estos parámetros tienen que ver con cuanto aumenta la probabilidad de ser de una clase o la otra, dada una observación, todo esto en escala logarítmica. Para este clasificador obtenemos un accuracy de 1. "
   ]
  },
  {
   "cell_type": "code",
   "execution_count": 190,
   "metadata": {},
   "outputs": [
    {
     "name": "stdout",
     "output_type": "stream",
     "text": [
      "[[ 0.32877149 -1.23901469  0.24612021  0.00419178]]\n"
     ]
    }
   ],
   "source": [
    "# Create model \n",
    "RL = LogisticRegression()\n",
    "mi_RL=RL.fit(X_train, y_train)\n",
    "print(mi_RL.coef_)"
   ]
  },
  {
   "cell_type": "code",
   "execution_count": 191,
   "metadata": {},
   "outputs": [
    {
     "name": "stdout",
     "output_type": "stream",
     "text": [
      "              precision    recall  f1-score   support\n",
      "\n",
      "      Adelie       1.00      1.00      1.00        32\n",
      "      Gentoo       1.00      1.00      1.00        24\n",
      "\n",
      "    accuracy                           1.00        56\n",
      "   macro avg       1.00      1.00      1.00        56\n",
      "weighted avg       1.00      1.00      1.00        56\n",
      "\n"
     ]
    },
    {
     "data": {
      "image/png": "[encoded data removed]",
      "text/plain": [
       "<Figure size 640x480 with 2 Axes>"
      ]
     },
     "metadata": {},
     "output_type": "display_data"
    }
   ],
   "source": [
    "# Predict and evaluate \n",
    "y_pred = mi_RL.predict(X_test)\n",
    "print(classification_report(y_true=y_test, y_pred=y_pred))\n",
    "\n",
    "ConfusionMatrixDisplay.from_estimator(mi_RL, X_test, y_test)\n",
    "plt.show()"
   ]
  },
  {
   "cell_type": "markdown",
   "metadata": {},
   "source": [
    "### Regresión logística: Adelie y Chinstrap"
   ]
  },
  {
   "cell_type": "markdown",
   "metadata": {},
   "source": [
    "Por último, hagamos regresión logística con las especies Adelie, Chinstrap, para este caso vamos a usar la API de statsmodels, la cuál nos ofrece información estadística útil. "
   ]
  },
  {
   "cell_type": "code",
   "execution_count": 192,
   "metadata": {},
   "outputs": [],
   "source": [
    "# Cargamos statsmodels \n",
    "import statsmodels.api as sm\n",
    "import statsmodels.formula.api as smf"
   ]
  },
  {
   "cell_type": "markdown",
   "metadata": {},
   "source": [
    "Para este ejercicio seleccionemos a las especies Adelie y Chinstrap "
   ]
  },
  {
   "cell_type": "code",
   "execution_count": 193,
   "metadata": {},
   "outputs": [],
   "source": [
    "# Read again data \n",
    "df = pd.read_csv('./penguins.csv')\n",
    "df = df.drop(['rowid', 'island', 'sex', 'year'], axis=1)\n",
    "X = df.iloc[:, 1:]\n",
    "imputer = KNNImputer(n_neighbors=3)\n",
    "X = imputer.fit_transform(X)\n",
    "df.iloc[:, 1:] = X\n",
    "selected_species = ['Adelie', 'Chinstrap']\n",
    "df_subset = df[df['species'].isin(selected_species)]\n",
    "\n",
    "# Split a los datos \n",
    "X_train, X_test, y_train, y_test = train_test_split(df_subset.drop('species', axis=1), df_subset['species'], test_size=0.2, random_state=42)\n"
   ]
  },
  {
   "cell_type": "markdown",
   "metadata": {},
   "source": [
    "Para este modelo obtenemos un deviance de 186.3 y un número de grados de libertad de 172, lo cuál nos nos indica que hay evidencia estadística de que el modelo se ajusta a los datos razonablemente. "
   ]
  },
  {
   "cell_type": "code",
   "execution_count": 205,
   "metadata": {},
   "outputs": [
    {
     "name": "stderr",
     "output_type": "stream",
     "text": [
      "/Users/sergio/anaconda3/envs/machine_lr/lib/python3.9/site-packages/statsmodels/genmod/families/links.py:13: FutureWarning: The logit link alias is deprecated. Use Logit instead. The logit link alias will be removed after the 0.15.0 release.\n",
      "  warnings.warn(\n"
     ]
    },
    {
     "data": {
      "text/html": [
       "<table class=\"simpletable\">\n",
       "<caption>Generalized Linear Model Regression Results</caption>\n",
       "<tr>\n",
       "  <th>Dep. Variable:</th>   <td>['y[Adelie]', 'y[Chinstrap]']</td> <th>  No. Observations:  </th>  <td>   176</td> \n",
       "</tr>\n",
       "<tr>\n",
       "  <th>Model:</th>                        <td>GLM</td>              <th>  Df Residuals:      </th>  <td>   172</td> \n",
       "</tr>\n",
       "<tr>\n",
       "  <th>Model Family:</th>              <td>Binomial</td>            <th>  Df Model:          </th>  <td>     3</td> \n",
       "</tr>\n",
       "<tr>\n",
       "  <th>Link Function:</th>               <td>logit</td>             <th>  Scale:             </th> <td>  1.0000</td>\n",
       "</tr>\n",
       "<tr>\n",
       "  <th>Method:</th>                      <td>IRLS</td>              <th>  Log-Likelihood:    </th> <td> -93.196</td>\n",
       "</tr>\n",
       "<tr>\n",
       "  <th>Date:</th>                  <td>Fri, 26 Apr 2024</td>        <th>  Deviance:          </th> <td>  186.39</td>\n",
       "</tr>\n",
       "<tr>\n",
       "  <th>Time:</th>                      <td>18:09:48</td>            <th>  Pearson chi2:      </th>  <td>  181.</td> \n",
       "</tr>\n",
       "<tr>\n",
       "  <th>No. Iterations:</th>                <td>5</td>               <th>  Pseudo R-squ. (CS):</th>  <td>0.1673</td> \n",
       "</tr>\n",
       "<tr>\n",
       "  <th>Covariance Type:</th>           <td>nonrobust</td>           <th>                     </th>     <td> </td>   \n",
       "</tr>\n",
       "</table>\n",
       "<table class=\"simpletable\">\n",
       "<tr>\n",
       "      <td></td>         <th>coef</th>     <th>std err</th>      <th>z</th>      <th>P>|z|</th>  <th>[0.025</th>    <th>0.975]</th>  \n",
       "</tr>\n",
       "<tr>\n",
       "  <th>Intercept</th> <td>   28.1849</td> <td>    6.145</td> <td>    4.587</td> <td> 0.000</td> <td>   16.141</td> <td>   40.229</td>\n",
       "</tr>\n",
       "<tr>\n",
       "  <th>x2</th>        <td>    0.1304</td> <td>    0.177</td> <td>    0.735</td> <td> 0.462</td> <td>   -0.217</td> <td>    0.478</td>\n",
       "</tr>\n",
       "<tr>\n",
       "  <th>x3</th>        <td>   -0.1725</td> <td>    0.036</td> <td>   -4.849</td> <td> 0.000</td> <td>   -0.242</td> <td>   -0.103</td>\n",
       "</tr>\n",
       "<tr>\n",
       "  <th>x4</th>        <td>    0.0009</td> <td>    0.001</td> <td>    1.634</td> <td> 0.102</td> <td>   -0.000</td> <td>    0.002</td>\n",
       "</tr>\n",
       "</table>"
      ],
      "text/latex": [
       "\\begin{center}\n",
       "\\begin{tabular}{lclc}\n",
       "\\toprule\n",
       "\\textbf{Dep. Variable:}   & ['y[Adelie]', 'y[Chinstrap]'] & \\textbf{  No. Observations:  } &      176    \\\\\n",
       "\\textbf{Model:}           &              GLM              & \\textbf{  Df Residuals:      } &      172    \\\\\n",
       "\\textbf{Model Family:}    &            Binomial           & \\textbf{  Df Model:          } &        3    \\\\\n",
       "\\textbf{Link Function:}   &             logit             & \\textbf{  Scale:             } &    1.0000   \\\\\n",
       "\\textbf{Method:}          &              IRLS             & \\textbf{  Log-Likelihood:    } &   -93.196   \\\\\n",
       "\\textbf{Date:}            &        Fri, 26 Apr 2024       & \\textbf{  Deviance:          } &    186.39   \\\\\n",
       "\\textbf{Time:}            &            18:09:48           & \\textbf{  Pearson chi2:      } &     181.    \\\\\n",
       "\\textbf{No. Iterations:}  &               5               & \\textbf{  Pseudo R-squ. (CS):} &   0.1673    \\\\\n",
       "\\textbf{Covariance Type:} &           nonrobust           & \\textbf{                     } &             \\\\\n",
       "\\bottomrule\n",
       "\\end{tabular}\n",
       "\\begin{tabular}{lcccccc}\n",
       "                   & \\textbf{coef} & \\textbf{std err} & \\textbf{z} & \\textbf{P$> |$z$|$} & \\textbf{[0.025} & \\textbf{0.975]}  \\\\\n",
       "\\midrule\n",
       "\\textbf{Intercept} &      28.1849  &        6.145     &     4.587  &         0.000        &       16.141    &       40.229     \\\\\n",
       "\\textbf{x2}        &       0.1304  &        0.177     &     0.735  &         0.462        &       -0.217    &        0.478     \\\\\n",
       "\\textbf{x3}        &      -0.1725  &        0.036     &    -4.849  &         0.000        &       -0.242    &       -0.103     \\\\\n",
       "\\textbf{x4}        &       0.0009  &        0.001     &     1.634  &         0.102        &       -0.000    &        0.002     \\\\\n",
       "\\bottomrule\n",
       "\\end{tabular}\n",
       "%\\caption{Generalized Linear Model Regression Results}\n",
       "\\end{center}"
      ],
      "text/plain": [
       "<class 'statsmodels.iolib.summary.Summary'>\n",
       "\"\"\"\n",
       "                       Generalized Linear Model Regression Results                       \n",
       "=========================================================================================\n",
       "Dep. Variable:     ['y[Adelie]', 'y[Chinstrap]']   No. Observations:                  176\n",
       "Model:                                       GLM   Df Residuals:                      172\n",
       "Model Family:                           Binomial   Df Model:                            3\n",
       "Link Function:                             logit   Scale:                          1.0000\n",
       "Method:                                     IRLS   Log-Likelihood:                -93.196\n",
       "Date:                           Fri, 26 Apr 2024   Deviance:                       186.39\n",
       "Time:                                   18:09:48   Pearson chi2:                     181.\n",
       "No. Iterations:                                5   Pseudo R-squ. (CS):             0.1673\n",
       "Covariance Type:                       nonrobust                                         \n",
       "==============================================================================\n",
       "                 coef    std err          z      P>|z|      [0.025      0.975]\n",
       "------------------------------------------------------------------------------\n",
       "Intercept     28.1849      6.145      4.587      0.000      16.141      40.229\n",
       "x2             0.1304      0.177      0.735      0.462      -0.217       0.478\n",
       "x3            -0.1725      0.036     -4.849      0.000      -0.242      -0.103\n",
       "x4             0.0009      0.001      1.634      0.102      -0.000       0.002\n",
       "==============================================================================\n",
       "\"\"\""
      ]
     },
     "execution_count": 205,
     "metadata": {},
     "output_type": "execute_result"
    }
   ],
   "source": [
    "data_train = pd.DataFrame({\"y\" : y_train,\n",
    "                \"x1\" : X_train.iloc[:,0],\n",
    "                \"x2\" : X_train.iloc[:,1], \n",
    "                \"x3\" : X_train.iloc[:,2], \n",
    "                \"x4\" : X_train.iloc[:,3]})\n",
    "\n",
    "data_test = pd.DataFrame({\"y\" : y_test,\n",
    "                \"x1\" : X_test.iloc[:,0],\n",
    "                \"x2\" : X_test.iloc[:,1], \n",
    "                \"x3\" : X_test.iloc[:,2], \n",
    "                \"x4\" : X_test.iloc[:,3]})\n",
    "\n",
    "link_RL=sm.genmod.families.links.logit\n",
    "\n",
    "model = smf.glm(formula = \"y ~ x2+x3+x4\",\n",
    "               family=sm.families.Binomial(link_RL() ),\n",
    "               data=data_train\n",
    "               ).fit()\n",
    "\n",
    "model.summary()"
   ]
  },
  {
   "cell_type": "markdown",
   "metadata": {},
   "source": [
    "Bajo este modelo obtenemos un accuracy de 0.80."
   ]
  },
  {
   "cell_type": "code",
   "execution_count": 206,
   "metadata": {},
   "outputs": [
    {
     "name": "stdout",
     "output_type": "stream",
     "text": [
      "              precision    recall  f1-score   support\n",
      "\n",
      "      Adelie       0.81      0.94      0.87        31\n",
      "   Chinstrap       0.75      0.46      0.57        13\n",
      "\n",
      "    accuracy                           0.80        44\n",
      "   macro avg       0.78      0.70      0.72        44\n",
      "weighted avg       0.79      0.80      0.78        44\n",
      "\n"
     ]
    }
   ],
   "source": [
    "# Predict and evaluate \n",
    "probs = model.predict(data_test)\n",
    "y_pred = ['Adelie' if prob > 0.5 else 'Chinstrap' for prob in probs]\n",
    "print(classification_report(y_true=y_test, y_pred=y_pred))\n",
    "\n",
    "# ConfusionMatrixDisplay.from_estimator(model, X_test, y_test)\n",
    "# plt.show()"
   ]
  },
  {
   "cell_type": "markdown",
   "metadata": {},
   "source": [
    "### Prueba de LDA:\n",
    "\n",
    "$arg max_{x ≠ 0} \\frac{x^t d}{x^t B x} = d^t B^{-1} d$\n",
    "\n",
    "Por C-S generalizado tenemos que\n",
    "\n",
    "$ (x^t d)^2  ≤ x^t B x d^t B^{-1} d$\n",
    "\n",
    "Si $ x = B^{-1}d $, entonces:\n",
    "\n",
    "$\\frac{(x^t d)^2}{x^t B x} = \\frac{d^t(B^{-1})^t d d^t B^{-1} d}{d^t(B^{-1})^t B B^{-1} d}$ \n",
    "\n",
    "$= \\frac{d^t(B^{-1})^t d d^t B^{-1} d}{d^t(B^{-1})^t d}$ \n",
    "\n",
    "$= d^t(B^{-1})^t d$ \n",
    "\n",
    "$= d^t B^{-1} d$\n"
   ]
  },
  {
   "cell_type": "markdown",
   "metadata": {},
   "source": [
    "### Verificar pasos en regresión logística:\n",
    "\n",
    "$l(\\beta) = \\sum_i \\log (\\pi(x_i)^{y_i} (1 - \\pi(x_i))^{1 - y_i})$\n",
    "\n",
    "$= \\sum_i y_i \\log \\pi(x_i) + (1 - y_i) \\log (1 - \\pi(x_i))$\n",
    "\n",
    "$= \\sum_i y_i \\log \\left( \\frac{\\pi(x_i)}{1 - \\pi(x_i)} \\right) - \\log \\left( \\frac{1}{1 - \\pi(x_i)} \\right)$\n",
    "\n",
    "Veamos lo siguiente:\n",
    "\n",
    "$\\pi(x) = \\frac{1}{1 + e^{-\\beta^T x}}$\n",
    "\n",
    "$\\Rightarrow 1 + e^{-\\beta^T x} = \\frac{1}{\\pi(x)}$\n",
    "\n",
    "$\\Rightarrow e^{-\\beta^T x} = \\frac{1}{\\pi(x)} - 1$\n",
    "\n",
    "$= \\frac{1 - \\pi(x)}{\\pi(x)}$\n",
    "\n",
    "$\\Rightarrow e^{\\beta^T x} = \\frac{\\pi(x)}{1 - \\pi(x)}$\n",
    "\n",
    "Por un lado:\n",
    "\n",
    "$\\beta^T x = \\log \\left( \\frac{\\pi(x)}{1 - \\pi(x)} \\right)$\n",
    "\n",
    "Y por otro:\n",
    "\n",
    "$e^{\\beta^T x}  \\frac{1}{\\pi(x)}  = \\frac{1}{1 - \\pi(x)}$\n",
    "\n",
    "$e^{\\beta^T x} \\left( 1 + e^{\\beta^T x} \\right) = \\frac{1}{1 - \\pi(x)}$\n",
    "\n",
    "$1 + e^{\\beta^T x} = \\frac{1}{1 - \\pi(x)}$\n",
    "\n",
    "Sustituyendo nos queda:\n",
    "\n",
    "$\\ell(\\beta) = \\sum_i \\left( y_i \\beta^T x_i - \\log \\left( 1 + \\exp(\\beta^T x_i) \\right) \\right)$\n",
    "\n",
    "$\\Rightarrow \\frac{\\partial \\ell(\\beta)}{\\partial \\beta} = \\sum_i \\left[ \\frac{\\partial}{\\partial \\beta} (y_i \\beta^T x_i) - \\frac{\\partial}{\\partial \\beta} \\log \\left( 1 + \\exp(\\beta^T x_i) \\right) \\right]$\n",
    "\n",
    "$= \\sum_i \\left[ y_i x_i - \\frac{1}{1 + \\exp(\\beta^T x_i)} (\\exp(\\beta^T x_i) x_i) \\right]$\n"
   ]
  }
 ],
 "metadata": {
  "kernelspec": {
   "display_name": "machine_lr",
   "language": "python",
   "name": "python3"
  },
  "language_info": {
   "codemirror_mode": {
    "name": "ipython",
    "version": 3
   },
   "file_extension": ".py",
   "mimetype": "text/x-python",
   "name": "python",
   "nbconvert_exporter": "python",
   "pygments_lexer": "ipython3",
   "version": "3.9.18"
  }
 },
 "nbformat": 4,
 "nbformat_minor": 2
}
