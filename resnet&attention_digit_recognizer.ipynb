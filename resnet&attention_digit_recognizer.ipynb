{
  "cells": [
    {
      "cell_type": "code",
      "execution_count": 4,
      "metadata": {
        "id": "YSbjZP7OGppV"
      },
      "outputs": [],
      "source": [
        "# Pytorch\n",
        "import torch\n",
        "from torch.utils.data import DataLoader, Dataset\n",
        "from torchvision.transforms import transforms\n",
        "import torch.nn as nn\n",
        "import torch.nn.functional as F\n",
        "from torch import optim\n",
        "\n",
        "# Data visualization\n",
        "import matplotlib.pyplot as plt\n",
        "\n",
        "# Tools & Preprocessing\n",
        "import pandas as pd\n",
        "import zipfile\n",
        "import numpy as np\n",
        "from sklearn.model_selection import train_test_split\n",
        "from tqdm import tqdm\n",
        "from argparse import Namespace\n",
        "from sklearn.metrics import accuracy_score\n",
        "import os\n",
        "import shutil"
      ]
    },
    {
      "cell_type": "markdown",
      "metadata": {
        "id": "8AAnvDt6UHGx"
      },
      "source": [
        "## Read data"
      ]
    },
    {
      "cell_type": "code",
      "execution_count": 5,
      "metadata": {
        "id": "EQBxrLjNRxya"
      },
      "outputs": [],
      "source": [
        "with zipfile.ZipFile(\"digit-recognizer.zip\") as z:\n",
        "   with z.open(\"train.csv\") as f:\n",
        "      df = pd.read_csv(f)"
      ]
    },
    {
      "cell_type": "code",
      "execution_count": null,
      "metadata": {
        "id": "atMCeqWwMGZ9"
      },
      "outputs": [],
      "source": [
        "df.head()"
      ]
    },
    {
      "cell_type": "code",
      "execution_count": null,
      "metadata": {
        "id": "j49OwBc6RM5E"
      },
      "outputs": [],
      "source": [
        "df.shape"
      ]
    },
    {
      "cell_type": "code",
      "execution_count": 5,
      "metadata": {
        "id": "VRUlEhCSbpuM"
      },
      "outputs": [],
      "source": [
        "# Setup\n",
        "args = Namespace()\n",
        "args.batch_size = 64\n",
        "args.epochs = 50\n",
        "args.lr_rate = 2.3e-4\n",
        "args.device = torch.device(\"cuda\" if torch.cuda.is_available() else \"cpu\")\n",
        "args.lr_patience = 5\n",
        "args.lr_factor = 0.1\n",
        "args.patience = 20"
      ]
    },
    {
      "cell_type": "markdown",
      "metadata": {
        "id": "CmKhC2TVgrDI"
      },
      "source": [
        "## Preprocess data"
      ]
    },
    {
      "cell_type": "code",
      "execution_count": 15,
      "metadata": {
        "id": "7mbhvVrHe9Bb"
      },
      "outputs": [],
      "source": [
        "# Create a custom\n",
        "class CustomDataset(Dataset):\n",
        "    def __init__(self, features, labels, transform=None):\n",
        "        self.features = features.values\n",
        "        self.labels = labels.values\n",
        "        self.transform = transform\n",
        "\n",
        "    def __len__(self):\n",
        "        return len(self.features)\n",
        "\n",
        "    def __getitem__(self, index):\n",
        "        X = self.features[index].astype('float32')\n",
        "        y = self.labels[index]\n",
        "\n",
        "        X = X.reshape(28, 28, 1)\n",
        "\n",
        "        if self.transform:\n",
        "            X = self.transform(X)\n",
        "\n",
        "        return X, y\n",
        "\n",
        "transform = transforms.Compose([\n",
        "    transforms.ToTensor(),\n",
        "    transforms.Normalize((0.5,), (0.5,))\n",
        "])"
      ]
    },
    {
      "cell_type": "code",
      "execution_count": 9,
      "metadata": {
        "id": "q-QNKcTuUEME"
      },
      "outputs": [],
      "source": [
        "# Extract images and labels\n",
        "X = df.iloc[:, 1:]\n",
        "y = df.iloc[:, 0]\n",
        "\n",
        "# Normalize between [0, 1]\n",
        "X = X / 255\n",
        "X_train, X_val, y_train, y_val = train_test_split(X,y,test_size =0.2, random_state = 42)\n",
        "\n",
        "# Create pytorch dataset\n",
        "train_data = CustomDataset(X_train, y_train, transform=transform)\n",
        "val_data = CustomDataset(X_val, y_val, transform=transform)\n",
        "\n",
        "# Create dataloaders\n",
        "train_loader = DataLoader(dataset=train_data, batch_size=args.batch_size, shuffle=True)\n",
        "val_loader = DataLoader(dataset=val_data, batch_size=args.batch_size, shuffle=False)"
      ]
    },
    {
      "cell_type": "markdown",
      "metadata": {
        "id": "s2H_ApdgZBU7"
      },
      "source": [
        "## Create model"
      ]
    },
    {
      "cell_type": "code",
      "execution_count": 6,
      "metadata": {
        "id": "ufz0RAMjoA9F"
      },
      "outputs": [],
      "source": [
        "# Create an attention module\n",
        "class SelfAttention(nn.Module):\n",
        "    def __init__(self, in_dim):\n",
        "        super(SelfAttention, self).__init__()\n",
        "        self.query_conv = nn.Conv2d(in_channels=in_dim, out_channels=in_dim // 8, kernel_size=1)\n",
        "        self.key_conv = nn.Conv2d(in_channels=in_dim, out_channels=in_dim // 8, kernel_size=1)\n",
        "        self.value_conv = nn.Conv2d(in_channels=in_dim, out_channels=in_dim, kernel_size=1)\n",
        "        self.softmax = nn.Softmax(dim=-2)  # Softmax over the spatial dimensions\n",
        "\n",
        "    def forward(self, x):\n",
        "        batch_size, C, width, height = x.size()\n",
        "        query = self.query_conv(x).view(batch_size, -1, width * height).permute(0, 2, 1)  # B x (W*H) x C'\n",
        "        key = self.key_conv(x).view(batch_size, -1, width * height)  # B x C' x (W*H)\n",
        "        value = self.value_conv(x).view(batch_size, -1, width * height)  # B x C x (W*H)\n",
        "\n",
        "        attention = self.softmax(torch.bmm(query, key))  # B x (W*H) x (W*H)\n",
        "        out = torch.bmm(value, attention.permute(0, 2, 1))  # B x C x (W*H)\n",
        "        out = out.view(batch_size, C, width, height)\n",
        "\n",
        "        return out + x  # Skip connection"
      ]
    },
    {
      "cell_type": "code",
      "execution_count": 7,
      "metadata": {
        "id": "6UdYct4MeV2R"
      },
      "outputs": [],
      "source": [
        "# Create the model ResNet + Attention + Dense\n",
        "class Model(nn.Module):\n",
        "    def __init__(self):\n",
        "        super(Model, self).__init__()\n",
        "        # Convolutional layers\n",
        "        self.conv1 = nn.Conv2d(in_channels=1, out_channels=32, kernel_size=3, padding=1, bias=False)\n",
        "        self.bn1 = nn.BatchNorm2d(32)\n",
        "        self.conv2 = nn.Conv2d(in_channels=32, out_channels=64, kernel_size=3, padding=1, bias=False)\n",
        "        self.bn2 = nn.BatchNorm2d(64)\n",
        "        self.pool = nn.MaxPool2d(kernel_size=2, stride=2)\n",
        "        self.conv3 = nn.Conv2d(in_channels=64, out_channels=128, kernel_size=3, padding=1, bias=False)\n",
        "        self.bn3 = nn.BatchNorm2d(128)\n",
        "        self.attention = SelfAttention(in_dim=128)  # Attention layer\n",
        "\n",
        "        # Downsample for ResNet\n",
        "        self.downsample = nn.Sequential(\n",
        "            nn.Conv2d(in_channels=1, out_channels=128, kernel_size=3, padding=1, bias=False),\n",
        "            nn.MaxPool2d(kernel_size=4, stride=4),\n",
        "            nn.BatchNorm2d(128)\n",
        "        )\n",
        "\n",
        "        # Faltten layer\n",
        "        self.flatten = nn.Flatten()\n",
        "\n",
        "        # Clasification layers\n",
        "        self.fc1 = nn.Linear(128 * 7 * 7, 512)\n",
        "        self.fc2 = nn.Linear(512, 256)\n",
        "        self.fc3 = nn.Linear(256, 10)\n",
        "        self.drop1 = nn.Dropout(p=0.4)\n",
        "\n",
        "    def forward(self, x):\n",
        "        # Convolution\n",
        "        identity = self.downsample(x)\n",
        "\n",
        "        x = self.pool(F.relu(self.bn1(self.conv1(x))))\n",
        "        x = self.pool(F.relu(self.bn2(self.conv2(x))))\n",
        "        x = self.bn3(self.conv3(x))\n",
        "\n",
        "        x += identity\n",
        "        x = F.relu(x)\n",
        "\n",
        "        # Attention\n",
        "        x = self.attention(x)\n",
        "\n",
        "        # Flatten\n",
        "        x = self.flatten(x)\n",
        "\n",
        "        # Clasification\n",
        "        x = F.relu(self.fc1(x))\n",
        "        x = F.relu(self.fc2(x))\n",
        "        x = self.drop1(x)\n",
        "        return self.fc3(x)"
      ]
    },
    {
      "cell_type": "code",
      "execution_count": 35,
      "metadata": {
        "id": "38ppbNWLTEaX"
      },
      "outputs": [],
      "source": [
        "# Create a function to save models\n",
        "# Saving directory\n",
        "args.savedir = 'model'\n",
        "os.makedirs(args.savedir, exist_ok=True)\n",
        "\n",
        "def save_checkpoint(state, is_best, checkpoint_path, filename=\"checkpoint.pt\"):\n",
        "    filename = os.path.join(checkpoint_path, filename)\n",
        "    torch.save(state, filename)\n",
        "    if is_best:\n",
        "        shutil.copyfile(filename, os.path.join(checkpoint_path, \"model_best.pt\"))"
      ]
    },
    {
      "cell_type": "code",
      "execution_count": null,
      "metadata": {},
      "outputs": [],
      "source": [
        "# Criterion and optimizers\n",
        "model = Model().to(args.device)\n",
        "criterion = nn.CrossEntropyLoss()\n",
        "optimizer = optim.Adam(model.parameters(), lr=args.lr_rate)\n",
        "scheduler = torch.optim.lr_scheduler.ReduceLROnPlateau(\n",
        "    optimizer, \"min\",\n",
        "    patience=args.lr_patience,\n",
        "    factor=args.lr_factor\n",
        ")"
      ]
    },
    {
      "cell_type": "code",
      "execution_count": 19,
      "metadata": {
        "id": "v-JMmn5QsSDf"
      },
      "outputs": [],
      "source": [
        "# Get predictions and evaluate the model\n",
        "def get_pred(logits):\n",
        "    probs = F.softmax(logits.detach(), dim=1)\n",
        "    y_pred = torch.argmax(probs, dim=1)\n",
        "    return y_pred\n",
        "\n",
        "def eval_model(test_loader, model, device=args.device):\n",
        "    test_loss = []\n",
        "    with torch.no_grad():\n",
        "        preds, tgts = [], []\n",
        "\n",
        "        for x, y_true in test_loader:\n",
        "\n",
        "            # Forward\n",
        "            x = x.to(device) # gpu\n",
        "            y_true = y_true.to(device) # gpu\n",
        "            logits_pred = model(x) # gpu\n",
        "\n",
        "            # Loss\n",
        "            loss = criterion(logits_pred, y_true)\n",
        "            test_loss.append(loss.item())\n",
        "\n",
        "            y_pred = get_pred(logits_pred) # gpu\n",
        "            preds.append(y_pred.cpu().numpy())\n",
        "            tgts.append(y_true.cpu().numpy())\n",
        "\n",
        "\n",
        "        tgts = [e for l in tgts for e in l]\n",
        "        preds = [e for l in preds for e in l]\n",
        "\n",
        "    return accuracy_score(tgts, preds), test_loss"
      ]
    },
    {
      "cell_type": "code",
      "execution_count": null,
      "metadata": {
        "id": "AJsx-9NqZ0VN"
      },
      "outputs": [],
      "source": [
        "# Training\n",
        "train_loss = []\n",
        "val_loss = []\n",
        "best_metric = 0\n",
        "\n",
        "for epoch in range(args.epochs):\n",
        "    model.train()\n",
        "    loop = tqdm(enumerate(train_loader), total=len(train_loader), leave=True)\n",
        "    loop.set_description(f'Epoch {epoch+1}/{args.epochs}')\n",
        "\n",
        "    # Initialize accumulators for loss and accuracy\n",
        "    train_loss_epoch = []\n",
        "    train_accuracy_epoch = []\n",
        "\n",
        "    for i, (x, y_true) in loop:\n",
        "\n",
        "        # Forward pass\n",
        "        x = x.to(args.device) # gpu\n",
        "        y_true = y_true.to(args.device) # gpu\n",
        "        logits_pred = model(x) # gpu\n",
        "\n",
        "        # Loss train\n",
        "        loss = criterion(logits_pred, y_true) # gpu\n",
        "        train_loss_epoch.append(loss.item())\n",
        "\n",
        "        # Calculate accuracy\n",
        "        y_pred = get_pred(logits_pred) # gpu\n",
        "        accuracy = accuracy_score(y_true.cpu().numpy(), y_pred.cpu().numpy())\n",
        "        train_accuracy_epoch.append(accuracy)\n",
        "\n",
        "        # Backward and optimize\n",
        "        optimizer.zero_grad()\n",
        "        loss.backward()\n",
        "        optimizer.step()\n",
        "\n",
        "        # Update tqdm postfix with the current average loss and accuracy\n",
        "        loop.set_postfix(loss_train=np.mean(train_loss_epoch), accuracy_train=np.mean(train_accuracy_epoch))\n",
        "\n",
        "    # Accuracy and loss in test\n",
        "    accuracy_val, val_loss_epoch = eval_model(val_loader, model, args.device)\n",
        "    train_loss += train_loss_epoch\n",
        "    val_loss += val_loss_epoch\n",
        "\n",
        "    # Update learning rate scheduler\n",
        "    scheduler.step(np.mean(train_loss_epoch))\n",
        "\n",
        "    # Keep track of accuracy improvement\n",
        "    is_improvement = accuracy_val > best_metric\n",
        "    if is_improvement:\n",
        "        best_metric = accuracy_val\n",
        "        n_no_improve = 0\n",
        "    else:\n",
        "        n_no_improve += 1\n",
        "\n",
        "    # Save best model if accuracy improve\n",
        "    save_checkpoint(\n",
        "        {\n",
        "            \"epoch\": epoch + 1,\n",
        "            \"state_dict\": model.state_dict(),\n",
        "            \"optimizer\": optimizer.state_dict(),\n",
        "            \"scheduler\": scheduler.state_dict(),\n",
        "            \"best_metric\": best_metric,\n",
        "        },\n",
        "        is_improvement,\n",
        "        args.savedir,\n",
        "    )\n",
        "\n",
        "    # Print accuracy in validation \n",
        "    print('accuracy_test: {: .4f}'.format(accuracy_val))\n",
        "\n",
        "    # Early stopping\n",
        "    if n_no_improve >= args.patience:\n",
        "        print(\"No improvement. Breaking out of loop\")\n",
        "        break\n",
        "\n",
        "\n"
      ]
    },
    {
      "cell_type": "markdown",
      "metadata": {
        "id": "5KzBV_LaZ7Ta"
      },
      "source": [
        "## Let's prove our model"
      ]
    },
    {
      "cell_type": "code",
      "execution_count": null,
      "metadata": {
        "id": "FITyj-R-Ycax"
      },
      "outputs": [],
      "source": [
        "best_model = Model()\n",
        "best_model.load_state_dict(torch.load('model_best.pt', map_location=torch.device('cpu'))['state_dict'])\n",
        "best_model.train(False)\n",
        "\n",
        "print(\".\"*30)\n",
        "print(\"Digit recognizer\")\n",
        "print(\".\"*30)"
      ]
    },
    {
      "cell_type": "code",
      "execution_count": 22,
      "metadata": {
        "id": "q08OUTbiZxGU"
      },
      "outputs": [],
      "source": [
        "with zipfile.ZipFile(\"digit-recognizer.zip\") as z:\n",
        "   with z.open(\"test.csv\") as f:\n",
        "      df_test = pd.read_csv(f)"
      ]
    },
    {
      "cell_type": "code",
      "execution_count": null,
      "metadata": {
        "id": "hDAw3XE1aEc8"
      },
      "outputs": [],
      "source": [
        "df_test.head()"
      ]
    },
    {
      "cell_type": "code",
      "execution_count": null,
      "metadata": {
        "id": "-PAQgKzcaOof"
      },
      "outputs": [],
      "source": [
        "df_test.shape"
      ]
    },
    {
      "cell_type": "code",
      "execution_count": null,
      "metadata": {
        "id": "r786Bk_9a6E_"
      },
      "outputs": [],
      "source": [
        "df_test / 255"
      ]
    },
    {
      "cell_type": "code",
      "execution_count": null,
      "metadata": {
        "id": "oUIC9OjOht-x"
      },
      "outputs": [],
      "source": [
        "torch.tensor(df_test.iloc[0,:].to_numpy()).view(28, 28)"
      ]
    },
    {
      "cell_type": "code",
      "execution_count": 41,
      "metadata": {
        "id": "IrDjrXWDfBz8"
      },
      "outputs": [],
      "source": [
        "predictions = [\n",
        "    ['ImageId','Label'],\n",
        "]\n",
        "\n",
        "for i in range(df_test.shape[0]):\n",
        "\n",
        "    # Forward pass\n",
        "    x = torch.tensor(df_test.iloc[i,:].to_numpy(),  dtype=torch.float).view(1, 1, 28, 28)\n",
        "    x = x.to(args.device)\n",
        "    logits_pred = best_model(x)\n",
        "    y_pred = get_pred(logits_pred)\n",
        "    predictions.append([i+1, y_pred.cpu().item()])\n"
      ]
    },
    {
      "cell_type": "code",
      "execution_count": null,
      "metadata": {
        "id": "4sOqsusFluCs"
      },
      "outputs": [],
      "source": [
        "import csv\n",
        "\n",
        "filename = 'predictions_digit_recognizer.csv'\n",
        "\n",
        "with open(filename, 'w', newline='') as file:\n",
        "    writer = csv.writer(file)\n",
        "\n",
        "    # Write the data to the CSV file\n",
        "    for row in predictions:\n",
        "        writer.writerow(row)\n",
        "\n",
        "print(f'{filename} has been created and populated with data.')"
      ]
    }
  ],
  "metadata": {
    "accelerator": "GPU",
    "colab": {
      "gpuType": "T4",
      "provenance": []
    },
    "kernelspec": {
      "display_name": "Python 3",
      "name": "python3"
    },
    "language_info": {
      "name": "python",
      "version": "3.9.18"
    }
  },
  "nbformat": 4,
  "nbformat_minor": 0
}
