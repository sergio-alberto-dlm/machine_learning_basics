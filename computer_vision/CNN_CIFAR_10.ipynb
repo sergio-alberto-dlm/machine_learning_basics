{
  "nbformat": 4,
  "nbformat_minor": 0,
  "metadata": {
    "colab": {
      "provenance": [],
      "gpuType": "T4"
    },
    "kernelspec": {
      "name": "python3",
      "display_name": "Python 3"
    },
    "language_info": {
      "name": "python"
    },
    "accelerator": "GPU"
  },
  "cells": [
    {
      "cell_type": "code",
      "execution_count": null,
      "metadata": {
        "id": "MeApuqCdirVM"
      },
      "outputs": [],
      "source": [
        "# Import necessary libraries\n",
        "import torch\n",
        "import torch.nn as nn\n",
        "import torch.optim as optim\n",
        "import torch.nn.functional as F\n",
        "from torchvision import datasets, transforms\n",
        "from torch.utils.data import DataLoader\n",
        "from tqdm import tqdm"
      ]
    },
    {
      "cell_type": "code",
      "source": [
        "# Configuration\n",
        "\n",
        "BATCH_SIZE = 64\n",
        "DEVICE = torch.device(\"cuda\" if torch.cuda.is_available() else \"cpu\")\n",
        "LR_RATE = 3e-4\n",
        "MOMENTUM = 0.9\n",
        "NUM_EPOCHS = 5"
      ],
      "metadata": {
        "id": "Kqx0beyOjvtX"
      },
      "execution_count": null,
      "outputs": []
    },
    {
      "cell_type": "code",
      "source": [
        "# ---> Loading the Dataset\n",
        "\n",
        "# Define transformations\n",
        "transform = transforms.Compose([\n",
        "    transforms.ToTensor(),\n",
        "    transforms.Normalize((0.5, 0.5, 0.5), (0.5, 0.5, 0.5))\n",
        "])\n",
        "\n",
        "# Load CIFAR-10 dataset\n",
        "train_dataset = datasets.CIFAR10(root='./data', train=True, download=True, transform=transform)\n",
        "test_dataset = datasets.CIFAR10(root='./data', train=False, download=True, transform=transform)\n",
        "\n",
        "# Create data loaders\n",
        "train_loader = DataLoader(train_dataset, batch_size=BATCH_SIZE, shuffle=True)\n",
        "test_loader = DataLoader(test_dataset, batch_size=BATCH_SIZE, shuffle=True)\n",
        "\n"
      ],
      "metadata": {
        "colab": {
          "base_uri": "https://localhost:8080/"
        },
        "id": "FrKL9a2QpuaH",
        "outputId": "09462925-20d6-420b-de54-dc2527a02d80"
      },
      "execution_count": null,
      "outputs": [
        {
          "output_type": "stream",
          "name": "stdout",
          "text": [
            "Downloading https://www.cs.toronto.edu/~kriz/cifar-10-python.tar.gz to ./data/cifar-10-python.tar.gz\n"
          ]
        },
        {
          "output_type": "stream",
          "name": "stderr",
          "text": [
            "100%|██████████| 170498071/170498071 [00:03<00:00, 48995108.11it/s]\n"
          ]
        },
        {
          "output_type": "stream",
          "name": "stdout",
          "text": [
            "Extracting ./data/cifar-10-python.tar.gz to ./data\n",
            "Files already downloaded and verified\n"
          ]
        }
      ]
    },
    {
      "cell_type": "code",
      "source": [
        "class CIFAR10_CNN(nn.Module):\n",
        "  def __init__(self):\n",
        "    super(CIFAR10_CNN, self).__init__()\n",
        "    # Convolutional layers\n",
        "    self.conv1 = nn.Conv2d(3, 32, kernel_size=5, padding=2)\n",
        "    self.pool = nn.MaxPool2d(kernel_size=2, stride=2)\n",
        "    self.conv2 = nn.Conv2d(32, 64, kernel_size=5, padding=2)\n",
        "    self.conv3 = nn.Conv2d(64, 128, kernel_size=5, padding=2)\n",
        "\n",
        "    # Fully connected layers\n",
        "    self.fc1 = nn.Linear(128 * 4 * 4, 120)\n",
        "    self.fc2 = nn.Linear(120, 84)\n",
        "    self.fc3 = nn.Linear(84, 10) # 10 classes for CIFAR-10\n",
        "\n",
        "  def forward(self, x):\n",
        "    # Forward pass\n",
        "    x = self.pool(F.relu(self.conv1(x)))\n",
        "    x = self.pool(F.relu(self.conv2(x)))\n",
        "    x = self.pool(F.relu(self.conv3(x)))\n",
        "    x = x.view(-1, 128 * 4 * 4) # Flatten the data for the fully connected layer\n",
        "    x = F.relu(self.fc1(x))\n",
        "    x = F.relu(self.fc2(x))\n",
        "    x = self.fc3(x)\n",
        "\n",
        "    return F.log_softmax(x, dim=1)\n",
        "\n",
        "# Create am instance of the CNN\n",
        "\n",
        "model = CIFAR10_CNN().to(DEVICE)"
      ],
      "metadata": {
        "id": "005ZZYTWTrl8"
      },
      "execution_count": null,
      "outputs": []
    },
    {
      "cell_type": "code",
      "source": [
        "# Loss funcion\n",
        "loss_function = nn.CrossEntropyLoss()\n",
        "\n",
        "# Optimizer (SGD or Adam)\n",
        "sgd = optim.SGD(model.parameters(), lr=LR_RATE, momentum=MOMENTUM)\n",
        "\n",
        "adam = optim.Adam(model.parameters(), lr=LR_RATE)"
      ],
      "metadata": {
        "id": "Q4rBwLfjbw3B"
      },
      "execution_count": null,
      "outputs": []
    },
    {
      "cell_type": "code",
      "source": [
        "# Training\n",
        "\n",
        "for e in range(NUM_EPOCHS):\n",
        "  model.train()\n",
        "  loop = tqdm(enumerate(train_loader))\n",
        "  for i, (data, target) in loop:\n",
        "    # Forward pass\n",
        "    data, target = data.to(DEVICE), target.to(DEVICE)\n",
        "    output = model(data)\n",
        "\n",
        "    # Backwardprop\n",
        "    loss = loss_function(output, target)\n",
        "    adam.zero_grad()\n",
        "    loss.backward()\n",
        "    adam.step()\n",
        "    loop.set_postfix(loss = loss.item())"
      ],
      "metadata": {
        "colab": {
          "base_uri": "https://localhost:8080/"
        },
        "id": "83T6xALW1_PS",
        "outputId": "a75b596a-2873-464c-f92e-dcbf1ce3e2fe"
      },
      "execution_count": null,
      "outputs": [
        {
          "output_type": "stream",
          "name": "stderr",
          "text": [
            "782it [00:22, 35.48it/s, loss=1.31]\n",
            "782it [00:21, 37.13it/s, loss=0.727]\n",
            "782it [00:21, 36.29it/s, loss=0.579]\n",
            "782it [00:20, 37.72it/s, loss=0.744]\n",
            "782it [00:21, 36.93it/s, loss=0.874]\n"
          ]
        }
      ]
    },
    {
      "cell_type": "code",
      "source": [
        "# Testing loop\n",
        "\n",
        "correct = 0\n",
        "model.eval()\n",
        "with torch.no_grad():\n",
        "  for data, target in test_loader:\n",
        "    data, target = data.to(DEVICE), target.to(DEVICE)\n",
        "    output = model(data)\n",
        "    pred = output.data.max(1, keepdim=True)[1]\n",
        "    correct += pred.eq(target.data.view_as(pred)).sum()\n",
        "\n",
        "print(f'Accuracy: {100. * correct / len(test_loader.dataset)}%')"
      ],
      "metadata": {
        "colab": {
          "base_uri": "https://localhost:8080/"
        },
        "id": "38LSNjazcXlM",
        "outputId": "8872fb78-65b8-487b-fb87-fc2308c0b8e3"
      },
      "execution_count": null,
      "outputs": [
        {
          "output_type": "stream",
          "name": "stdout",
          "text": [
            "Accuracy: 70.0999984741211%\n"
          ]
        }
      ]
    }
  ]
}